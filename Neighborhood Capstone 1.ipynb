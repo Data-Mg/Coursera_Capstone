{
    "cells": [
        {
            "cell_type": "code",
            "execution_count": 80,
            "metadata": {},
            "outputs": [],
            "source": "import pandas as pd\nimport numpy as np\nfrom IPython.display import display, HTML\nfrom bs4 import BeautifulSoup\nfrom urllib.request import urlopen"
        },
        {
            "cell_type": "markdown",
            "metadata": {},
            "source": "Using beautiful soup to scrape wiki page"
        },
        {
            "cell_type": "code",
            "execution_count": 81,
            "metadata": {},
            "outputs": [],
            "source": "url = 'https://en.wikipedia.org/wiki/List_of_postal_codes_of_Canada:_M'\nhtml1 = urlopen(url) \nsoup = BeautifulSoup(html1, 'html.parser')"
        },
        {
            "cell_type": "markdown",
            "metadata": {},
            "source": "Convert data into dataframe,Ignoring the Not Assigned Borough rows."
        },
        {
            "cell_type": "code",
            "execution_count": 89,
            "metadata": {},
            "outputs": [
                {
                    "name": "stdout",
                    "output_type": "stream",
                    "text": "  Postal Code           Borough                                Neighbourhood\n0         M3A        North York                                    Parkwoods\n1         M4A        North York                             Victoria Village\n2         M5A  Downtown Toronto                    Regent Park, Harbourfront\n3         M6A        North York             Lawrence Manor, Lawrence Heights\n4         M7A  Downtown Toronto  Queen's Park, Ontario Provincial Government\n5         M9A         Etobicoke      Islington Avenue, Humber Valley Village\n6         M1B       Scarborough                               Malvern, Rouge\n7         M3B        North York                                    Don Mills\n8         M4B         East York              Parkview Hill, Woodbine Gardens\n9         M5B  Downtown Toronto                     Garden District, Ryerson\nData shape (103, 3)\n"
                }
            ],
            "source": "#Create array to hold the data we extract\ntable = soup.find_all('table',attrs={'class': 'wikitable sortable'})\ndf = pd.read_html(str(table))[0]\ndf = df[df.Borough != 'Not assigned']\ndf['Neighbourhood'] = np.where((df['Neighbourhood'] == 'Not assigned'),df['Borough'],df['Neighbourhood']) \ndf.reset_index(drop=True, inplace=True)\nprint(df.head(10))\nprint(\"Data shape\",df.shape)"
        },
        {
            "cell_type": "code",
            "execution_count": null,
            "metadata": {},
            "outputs": [],
            "source": ""
        }
    ],
    "metadata": {
        "kernelspec": {
            "display_name": "Python 3.7",
            "language": "python",
            "name": "python3"
        },
        "language_info": {
            "codemirror_mode": {
                "name": "ipython",
                "version": 3
            },
            "file_extension": ".py",
            "mimetype": "text/x-python",
            "name": "python",
            "nbconvert_exporter": "python",
            "pygments_lexer": "ipython3",
            "version": "3.7.9"
        }
    },
    "nbformat": 4,
    "nbformat_minor": 1
}